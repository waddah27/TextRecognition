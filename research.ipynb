{
 "cells": [
  {
   "cell_type": "code",
   "execution_count": null,
   "metadata": {},
   "outputs": [],
   "source": [
    "import os\n",
    "from langchain_openai import ChatOpenAI\n",
    "from langchain_core.messages import HumanMessage\n",
    "os.environ[\"OPENAI_API_KEY\"] = \"<add-your-api-key>\"\n",
    "llm = ChatOpenAI(model=\"gpt-4-vision-preview\", max_tokens=1024)\n",
    "\n",
    "# Example with image URL\n",
    "message = HumanMessage(\n",
    "    content=[\n",
    "        {\"type\": \"text\", \"text\": \"What's in this image?\"},\n",
    "        {\"type\": \"image_url\", \"image_url\": \"https://example.com/image.jpg\"},\n",
    "    ]\n",
    ")\n",
    "response = llm.invoke([message])\n",
    "print(response.content)"
   ]
  },
  {
   "cell_type": "code",
   "execution_count": null,
   "metadata": {},
   "outputs": [],
   "source": [
    "import base64\n",
    "from openai import OpenAI\n",
    "\n",
    "client = OpenAI(api_key=\"<add-your-api-key>\")\n",
    "\n",
    "# Function to encode the image\n",
    "def encode_image(image_path):\n",
    "    with open(image_path, \"rb\") as image_file:\n",
    "        return base64.b64encode(image_file.read()).decode(\"utf-8\")\n",
    "\n",
    "\n",
    "# Path to your image\n",
    "image_path = \"receipt.jpg\"\n",
    "\n",
    "# Getting the Base64 string\n",
    "base64_image = encode_image(image_path)\n",
    "\n",
    "\n",
    "response = client.responses.create(\n",
    "    model=\"gpt-4o\",\n",
    "    input=[\n",
    "        {\n",
    "            \"role\": \"user\",\n",
    "            \"content\": [\n",
    "                { \"type\": \"input_text\", \"text\": \"what's in this image?\" },\n",
    "                {\n",
    "                    \"type\": \"input_image\",\n",
    "                    \"image_url\": f\"data:image/jpeg;base64,{base64_image}\",\n",
    "                },\n",
    "            ],\n",
    "        }\n",
    "    ],\n",
    ")\n",
    "\n",
    "print(response.output_text)"
   ]
  },
  {
   "cell_type": "code",
   "execution_count": null,
   "metadata": {},
   "outputs": [],
   "source": [
    "!pip install langchain-google-genai pillow python-dotenv"
   ]
  },
  {
   "cell_type": "code",
   "execution_count": null,
   "metadata": {},
   "outputs": [
    {
     "name": "stdout",
     "output_type": "stream",
     "text": [
      "```json\n",
      "{\n",
      "  \"store_name\": \"Пятёрочка\",\n",
      "  \"items\": [\n",
      "    {\n",
      "      \"name\": \"Лук репчатый\",\n",
      "      \"quantity\": \"0.215кг\",\n",
      "      \"price\": 71.49\n",
      "    },\n",
      "    {\n",
      "      \"name\": \"ШЕБЕК. Изд. мак. ЗЦВ. А в/с сп.450г\",\n",
      "      \"quantity\": \"1шт.\",\n",
      "      \"price\": 84.99\n",
      "    },\n",
      "    {\n",
      "      \"name\": \"9416 ДОБ. Нап. апел. с мяк.дет. пит450мл\",\n",
      "      \"quantity\": \"1шт.\",\n",
      "      \"price\": 84.99\n",
      "    }\n",
      "  ],\n",
      "  \"totals\": {\n",
      "    \"subtotal\": 185.00,\n",
      "    \"discount\": 30.00,\n",
      "    \"tax\": 16.83,\n",
      "    \"total\": 185.00\n",
      "  },\n",
      "  \"payment_method\": \"НАЛИЧНЫМИ\"\n",
      "}\n",
      "```\n"
     ]
    }
   ],
   "source": [
    "import base64\n",
    "import os\n",
    "from dotenv import load_dotenv\n",
    "from langchain_google_genai import ChatGoogleGenerativeAI\n",
    "from langchain_core.messages import HumanMessage\n",
    "\n",
    "# 1. Load API Key\n",
    "load_dotenv()\n",
    "api_key = os.getenv(\"GOOGLE_API_KEY\") or \"<add-your-api-key>\"  # Get from https://aistudio.google.com/app/apikey\n",
    "\n",
    "# 2. Initialize with Gemini 1.5 Flash\n",
    "model = ChatGoogleGenerativeAI(\n",
    "    model=\"gemini-1.5-flash\",  # Updated model name\n",
    "    google_api_key=api_key,\n",
    "    temperature=0\n",
    ")\n",
    "\n",
    "# 3. Convert image to base64\n",
    "def encode_image(image_path):\n",
    "    with open(image_path, \"rb\") as image_file:\n",
    "        return base64.b64encode(image_file.read()).decode(\"utf-8\")\n",
    "\n",
    "image_path = \"receipt.jpg\"\n",
    "base64_image = encode_image(image_path)\n",
    "\n",
    "# 4. Create message with proper formatting\n",
    "message = HumanMessage(\n",
    "    content=[\n",
    "        {\"type\": \"text\", \"text\": \"Extract all receipt data as JSON with: store name, items (name, quantity, price), totals, and payment method.\"},\n",
    "        {\n",
    "            \"type\": \"image_url\",\n",
    "            \"image_url\": {\n",
    "                \"url\": f\"data:image/jpeg;base64,{base64_image}\"\n",
    "            }\n",
    "        },\n",
    "    ]\n",
    ")\n",
    "\n",
    "# 5. Get response\n",
    "try:\n",
    "    response = model.invoke([message])\n",
    "    print(response.content)\n",
    "except Exception as e:\n",
    "    print(f\"Error: {e}\")"
   ]
  },
  {
   "cell_type": "code",
   "execution_count": null,
   "metadata": {},
   "outputs": [],
   "source": [
    "!pip install google-generativeai"
   ]
  },
  {
   "cell_type": "code",
   "execution_count": null,
   "metadata": {},
   "outputs": [],
   "source": [
    "from google import genai\n",
    "\n",
    "client = genai.Client(api_key=\"<add your api key>\")\n",
    "\n",
    "response = client.models.generate_content(\n",
    "    model=\"gemini-2.0-flash\",\n",
    "    contents=\"Explain how AI works\",\n",
    ")\n",
    "\n",
    "print(response.text)\n"
   ]
  },
  {
   "cell_type": "code",
   "execution_count": null,
   "metadata": {},
   "outputs": [],
   "source": []
  }
 ],
 "metadata": {
  "kernelspec": {
   "display_name": ".venv",
   "language": "python",
   "name": "python3"
  },
  "language_info": {
   "codemirror_mode": {
    "name": "ipython",
    "version": 3
   },
   "file_extension": ".py",
   "mimetype": "text/x-python",
   "name": "python",
   "nbconvert_exporter": "python",
   "pygments_lexer": "ipython3",
   "version": "3.11.9"
  }
 },
 "nbformat": 4,
 "nbformat_minor": 2
}
